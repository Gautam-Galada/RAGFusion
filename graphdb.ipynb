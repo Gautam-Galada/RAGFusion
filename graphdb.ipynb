{
  "cells": [
    {
      "cell_type": "code",
      "execution_count": null,
      "metadata": {
        "colab": {
          "base_uri": "https://localhost:8080/"
        },
        "id": "KOR-CkDa9O0n",
        "outputId": "ad2d1e3b-7c7c-424f-b15f-ef20fa49333f"
      },
      "outputs": [],
      "source": [
        "!pip install transformers spacy networkx pandas\n",
        "!python -m spacy download en_core_web_sm"
      ]
    },
    {
      "cell_type": "code",
      "execution_count": null,
      "metadata": {
        "id": "xeIotXUQLOqw"
      },
      "outputs": [],
      "source": [
        "import spacy\n",
        "import sqlite3\n",
        "from transformers import pipeline\n",
        "import networkx as nx\n",
        "import matplotlib.pyplot as plt"
      ]
    },
    {
      "cell_type": "code",
      "execution_count": null,
      "metadata": {
        "colab": {
          "base_uri": "https://localhost:8080/"
        },
        "id": "Vhm-hDDJLQ8G",
        "outputId": "e3d096be-5d1a-44d2-86df-a849a93f3c8f"
      },
      "outputs": [],
      "source": [
        "nlp=spacy.load(\"en_core_web_sm\")\n",
        "relationship_extractor = pipeline(\"zero-shot-classification\")"
      ]
    },
    {
      "cell_type": "code",
      "execution_count": null,
      "metadata": {
        "id": "9h0aFDiyLSem"
      },
      "outputs": [],
      "source": [
        "def extract_entities(text):\n",
        "    doc=nlp(text)\n",
        "    entities=[(ent.text, ent.label_) for ent in doc.ents]\n",
        "    return entities"
      ]
    },
    {
      "cell_type": "code",
      "execution_count": null,
      "metadata": {
        "id": "M_DOw94pLV9-"
      },
      "outputs": [],
      "source": [
        "def extract_relationships(text, entities):\n",
        "    relations=[]\n",
        "    for entity in entities:\n",
        "        if \"neural network\" in entity[0].lower():relations.append((entity[0],\"type of\",\"machine learning algorithm\"))\n",
        "        if \"ANN\" in entity[0] or \"artificial neural network\" in entity[0]:relations.append((entity[0], \"is a type of\", \"neural network\"))\n",
        "        if \"CNN\" in entity[0] or \"convolutional neural network\" in entity[0]:relations.append((entity[0], \"is a type of\", \"neural network\"))\n",
        "        if \"RNN\" in entity[0] or \"recurrent neural network\" in entity[0]:relations.append((entity[0], \"is a type of\", \"neural network\"))\n",
        "    if \"advantages\" in text.lower() or \"pros\" in text.lower():\n",
        "        for entity in entities:\n",
        "            if \"ANN\" in entity[0] or \"artificial neural network\" in entity[0]:\n",
        "                relations.append((\"ANN\",\"has advantage\",\"flexibility\"))\n",
        "                relations.append((\"ANN\",\"has advantage\",\"complex pattern recognition\"))\n",
        "                relations.append((\"ANN\",\"has advantage\",\"generalization from data\"))\n",
        "            if \"CNN\" in entity[0] or \"convolutional neural network\" in entity[0]:\n",
        "                relations.append((\"CNN\",\"has advantage\",\"feature extraction from images\"))\n",
        "                relations.append((\"CNN\",\"has advantage\",\"quick training\"))\n",
        "                relations.append((\"CNN\",\"has advantage\",\"accuracy in image classification\"))\n",
        "            if \"RNN\" in entity[0] or \"recurrent neural network\" in entity[0]:\n",
        "                relations.append((\"RNN\",\"has advantage\",\"accuracy in sequential tasks\"))\n",
        "                relations.append((\"RNN\",\"has advantage\",\"reduced training time\"))\n",
        "                relations.append((\"RNN\",\"has advantage\",\"interpretability\"))\n",
        "    if \"disadvantages\" in text.lower() or \"cons\" in text.lower():\n",
        "        for entity in entities:\n",
        "            if \"ANN\" in entity[0] or \"artificial neural network\" in entity[0]:\n",
        "                relations.append((\"ANN\",\"has disadvantage\",\"large training data requirement\"))\n",
        "                relations.append((\"ANN\",\"has disadvantage\",\"overfitting\"))\n",
        "                relations.append((\"ANN\",\"has disadvantage\",\"computational expense\"))\n",
        "            if \"CNN\" in entity[0] or \"convolutional neural network\" in entity[0]:\n",
        "                relations.append((\"CNN\",\"has disadvantage\",\"hyperparameter tuning complexity\"))\n",
        "                relations.append((\"CNN\",\"has disadvantage\",\"computational intensity\"))\n",
        "            if \"RNN\" in entity[0] or \"recurrent neural network\" in entity[0]:\n",
        "                relations.append((\"RNN\",\"has disadvantage\",\"large training data requirement\"))\n",
        "                relations.append((\"RNN\",\"has disadvantage\",\"slow training\"))\n",
        "                relations.append((\"RNN\",\"has disadvantage\",\"interpretability issues\"))\n",
        "    return relations"
      ]
    },
    {
      "cell_type": "code",
      "execution_count": null,
      "metadata": {
        "id": "AF2eGoFJLYtp"
      },
      "outputs": [],
      "source": [
        "def create_db():\n",
        "    conn=sqlite3.connect('knowledge_graph.db')\n",
        "    c=conn.cursor()\n",
        "    c.execute('''CREATE TABLE IF NOT EXISTS entities\n",
        "                 (id INTEGER PRIMARY KEY, name TEXT, type TEXT)''')\n",
        "    c.execute('''CREATE TABLE IF NOT EXISTS relationships\n",
        "                 (id INTEGER PRIMARY KEY, entity1 TEXT, relation TEXT, entity2 TEXT)''')\n",
        "    c.execute('''CREATE TABLE IF NOT EXISTS chunks\n",
        "                 (id INTEGER PRIMARY KEY, chunk TEXT)''')\n",
        "    conn.commit()\n",
        "    return conn"
      ]
    },
    {
      "cell_type": "code",
      "execution_count": null,
      "metadata": {
        "id": "5yfbn075LazU"
      },
      "outputs": [],
      "source": [
        "def store_entities(conn,entities):\n",
        "    c=conn.cursor()\n",
        "    for entity in entities:c.execute(\"INSERT INTO entities (name, type) VALUES (?, ?)\",entity)\n",
        "    conn.commit()\n",
        "def store_relationships(conn,relationships):\n",
        "    c=conn.cursor()\n",
        "    for relationship in relationships:c.execute(\"INSERT INTO relationships (entity1, relation, entity2) VALUES (?, ?, ?)\",relationship)\n",
        "    conn.commit()\n",
        "    \n",
        "def store_chunks(conn,chunks):\n",
        "    c=conn.cursor()\n",
        "    for chunk in chunks:c.execute(\"INSERT INTO chunks (chunk) VALUES (?)\",(chunk,))\n",
        "    conn.commit()"
      ]
    },
    {
      "cell_type": "code",
      "execution_count": null,
      "metadata": {
        "id": "IF2okYrSLcdN"
      },
      "outputs": [],
      "source": [
        "def process_text_chunks(text_chunks):\n",
        "    conn=create_db()\n",
        "    for chunk in text_chunks:\n",
        "        entities=extract_entities(chunk)\n",
        "        relationships =extract_relationships(chunk, entities)\n",
        "        store_entities(conn,entities)\n",
        "        store_relationships(conn,relationships)\n",
        "        store_chunks(conn,[chunk])"
      ]
    },
    {
      "cell_type": "code",
      "execution_count": null,
      "metadata": {
        "id": "jQbD7G2OLe2i"
      },
      "outputs": [],
      "source": [
        "def query_db(conn,question):\n",
        "    doc = nlp(question)\n",
        "    entities=[ent.text for ent in doc.ents]\n",
        "    if not entities:keywords = question.split()\n",
        "    else:keywords = entities\n",
        "    c=conn.cursor()\n",
        "    c.execute(\"SELECT chunk FROM chunks\")\n",
        "    all_chunks=c.fetchall()\n",
        "    most_relevant_chunk=None\n",
        "    max_relevance_score=0\n",
        "    for chunk in all_chunks:\n",
        "        relevance_score= relationship_extractor(question,[chunk[0]],multi_label=False)['scores'][0]\n",
        "        if relevance_score >max_relevance_score:\n",
        "            max_relevance_score=relevance_score\n",
        "            most_relevant_chunk= chunk[0]\n",
        "    return most_relevant_chunk"
      ]
    },
    {
      "cell_type": "code",
      "execution_count": null,
      "metadata": {
        "id": "sURgo_PZLhlR"
      },
      "outputs": [],
      "source": [
        "def visualize_graph_db(db_path='knowledge_graph.db'):\n",
        "    conn = sqlite3.connect(db_path)\n",
        "    c =conn.cursor()\n",
        "    G = nx.DiGraph()\n",
        "    c.execute(\"SELECT name, type FROM entities\")\n",
        "    entities=c.fetchall()\n",
        "    for entity in entities:G.add_node(entity[0],label=entity[1])\n",
        "    c.execute(\"SELECT entity1, relation, entity2 FROM relationships\")\n",
        "    relationships=c.fetchall()\n",
        "    for rel in relationships:G.add_edge(rel[0],rel[2], label=rel[1])\n",
        "    conn.close()\n",
        "    pos = nx.spring_layout(G)\n",
        "    plt.figure(figsize=(15,10))\n",
        "    nx.draw_networkx_nodes(G,pos,node_color='skyblue',node_size=2000)\n",
        "    nx.draw_networkx_labels(G,pos,font_size=12,font_color='black')\n",
        "    edges=nx.draw_networkx_edges(G,pos,arrowstyle='->',arrowsize=20,edge_color='gray')\n",
        "    edge_labels=nx.get_edge_attributes(G,'label')\n",
        "    nx.draw_networkx_edge_labels(G,pos,edge_labels=edge_labels,font_size=10)\n",
        "    plt.title(\"Knowledge Graph Visualization\")\n",
        "    plt.show()"
      ]
    },
    {
      "cell_type": "code",
      "execution_count": null,
      "metadata": {
        "id": "_6p7zXvZEm3u"
      },
      "outputs": [],
      "source": [
        "text_chunks = [\"There are many different types of neural networks, each with its own advantages and disadvantages. In this blog post, we will compare three of the most popular types: CNN, ANN, and RCNN. We will discuss the pros and cons of each type so that you can decide which is best for your needs.\",\n",
        "    \"Neural networks are a type of machine learning algorithm that is used to model complex patterns in data. Neural networks are similar to other machine learning algorithms, but they are composed of a large number of interconnected processing nodes, or neurons, that can learn to recognize patterns of input data.\",\n",
        "    \"Neural networks are particularly well suited for tasks that require the recognition of complex patterns, such as image recognition or natural language processing. Neural networks have been used for many years in a variety of fields, but they have become more popular in recent years as advances in computing power and data storage have made them more practical to use.\",\n",
        "    \"There are several types of neural network architectures, including the popular convolutional neural network (CNN) and recurrent neural network (RNN). Each type of neural network has its own strengths and weaknesses, so it is important to choose the right architecture for the task at hand.\"]\n",
        "process_text_chunks(text_chunks)\n"
      ]
    },
    {
      "cell_type": "code",
      "execution_count": null,
      "metadata": {
        "id": "DGvLFLssOPD5"
      },
      "outputs": [],
      "source": [
        "conn=sqlite3.connect('knowledge_graph.db')"
      ]
    },
    {
      "cell_type": "code",
      "execution_count": null,
      "metadata": {
        "colab": {
          "base_uri": "https://localhost:8080/"
        },
        "id": "MEtiRlgmI95L",
        "outputId": "89edd941-b765-4539-b0e5-a338a1a048de"
      },
      "outputs": [],
      "source": [
        "question =\"What are ANNs?\"\n",
        "answer = query_db(conn,question)\n",
        "print(\"Most relevant chunk:\", answer)"
      ]
    },
    {
      "cell_type": "code",
      "execution_count": null,
      "metadata": {
        "colab": {
          "base_uri": "https://localhost:8080/"
        },
        "id": "D4Eh-HhQFICa",
        "outputId": "9650cd7e-8d05-4b99-e409-af89ccd5274d"
      },
      "outputs": [],
      "source": [
        "question =\"What is Neural Network?\"\n",
        "answer = query_db(conn,question)\n",
        "print(\"Most relevant chunk:\", answer)"
      ]
    },
    {
      "cell_type": "code",
      "execution_count": null,
      "metadata": {
        "colab": {
          "base_uri": "https://localhost:8080/",
          "height": 829
        },
        "id": "fQAYn6uIITSH",
        "outputId": "f5dd1acd-4e47-43a8-e86e-b68c338ba2d5"
      },
      "outputs": [],
      "source": [
        "visualize_graph_db()"
      ]
    }
  ],
  "metadata": {
    "colab": {
      "provenance": []
    },
    "kernelspec": {
      "display_name": "Python 3",
      "name": "python3"
    },
    "language_info": {
      "name": "python"
    }
  },
  "nbformat": 4,
  "nbformat_minor": 0
}
